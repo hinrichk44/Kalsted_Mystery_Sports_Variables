{
 "cells": [
  {
   "cell_type": "markdown",
   "metadata": {},
   "source": [
    "# Project Overview"
   ]
  },
  {
   "cell_type": "markdown",
   "metadata": {},
   "source": [
    "This dataset is from a coding assessment given to me a while ago. It is made up of three columns, and the data is unlabeled. We do know what the x and y variables are supposed to be (since they are labeled x1, x2, and y), but we just don't know what they are. "
   ]
  },
  {
   "cell_type": "markdown",
   "metadata": {},
   "source": [
    "# Importing Basic Libraries"
   ]
  },
  {
   "cell_type": "code",
   "execution_count": 28,
   "metadata": {},
   "outputs": [],
   "source": [
    "#These are the libraries I typically use in my analysis so I find it easier to import them all at once\n",
    "#If I need more libraries I will import them as needed\n",
    "\n",
    "import matplotlib.pyplot as plt\n",
    "import numpy as np\n",
    "import pandas as pd\n",
    "import seaborn as sns\n",
    "plt.style.use('fivethirtyeight')\n",
    "%matplotlib inline"
   ]
  },
  {
   "cell_type": "markdown",
   "metadata": {},
   "source": [
    "# Initial Review of the Data"
   ]
  },
  {
   "cell_type": "code",
   "execution_count": 29,
   "metadata": {},
   "outputs": [],
   "source": [
    "#Reading in of the dataset\n",
    "\n",
    "unknown_data = pd.read_csv(\"PredictiveModelingAssessmentData.csv\")"
   ]
  },
  {
   "cell_type": "code",
   "execution_count": 30,
   "metadata": {},
   "outputs": [
    {
     "data": {
      "text/plain": [
       "(5000, 3)"
      ]
     },
     "execution_count": 30,
     "metadata": {},
     "output_type": "execute_result"
    }
   ],
   "source": [
    "#There are 5000 rows and three columns worth of data in this dataset\n",
    "\n",
    "unknown_data.shape"
   ]
  },
  {
   "cell_type": "code",
   "execution_count": 31,
   "metadata": {},
   "outputs": [
    {
     "data": {
      "text/html": [
       "<div>\n",
       "<style scoped>\n",
       "    .dataframe tbody tr th:only-of-type {\n",
       "        vertical-align: middle;\n",
       "    }\n",
       "\n",
       "    .dataframe tbody tr th {\n",
       "        vertical-align: top;\n",
       "    }\n",
       "\n",
       "    .dataframe thead th {\n",
       "        text-align: right;\n",
       "    }\n",
       "</style>\n",
       "<table border=\"1\" class=\"dataframe\">\n",
       "  <thead>\n",
       "    <tr style=\"text-align: right;\">\n",
       "      <th></th>\n",
       "      <th>y</th>\n",
       "      <th>x1</th>\n",
       "      <th>x2</th>\n",
       "    </tr>\n",
       "  </thead>\n",
       "  <tbody>\n",
       "    <tr>\n",
       "      <th>0</th>\n",
       "      <td>1.300215</td>\n",
       "      <td>-0.054425</td>\n",
       "      <td>0.738897</td>\n",
       "    </tr>\n",
       "    <tr>\n",
       "      <th>1</th>\n",
       "      <td>-0.805025</td>\n",
       "      <td>0.130174</td>\n",
       "      <td>0.977855</td>\n",
       "    </tr>\n",
       "    <tr>\n",
       "      <th>2</th>\n",
       "      <td>2.801926</td>\n",
       "      <td>1.749007</td>\n",
       "      <td>1.352562</td>\n",
       "    </tr>\n",
       "    <tr>\n",
       "      <th>3</th>\n",
       "      <td>3.123490</td>\n",
       "      <td>-0.979458</td>\n",
       "      <td>1.664484</td>\n",
       "    </tr>\n",
       "    <tr>\n",
       "      <th>4</th>\n",
       "      <td>3.445728</td>\n",
       "      <td>0.300521</td>\n",
       "      <td>2.988848</td>\n",
       "    </tr>\n",
       "  </tbody>\n",
       "</table>\n",
       "</div>"
      ],
      "text/plain": [
       "          y        x1        x2\n",
       "0  1.300215 -0.054425  0.738897\n",
       "1 -0.805025  0.130174  0.977855\n",
       "2  2.801926  1.749007  1.352562\n",
       "3  3.123490 -0.979458  1.664484\n",
       "4  3.445728  0.300521  2.988848"
      ]
     },
     "execution_count": 31,
     "metadata": {},
     "output_type": "execute_result"
    }
   ],
   "source": [
    "#A brief look at the beginning of the dataset\n",
    "\n",
    "unknown_data.head()"
   ]
  },
  {
   "cell_type": "code",
   "execution_count": 32,
   "metadata": {},
   "outputs": [
    {
     "data": {
      "text/html": [
       "<div>\n",
       "<style scoped>\n",
       "    .dataframe tbody tr th:only-of-type {\n",
       "        vertical-align: middle;\n",
       "    }\n",
       "\n",
       "    .dataframe tbody tr th {\n",
       "        vertical-align: top;\n",
       "    }\n",
       "\n",
       "    .dataframe thead th {\n",
       "        text-align: right;\n",
       "    }\n",
       "</style>\n",
       "<table border=\"1\" class=\"dataframe\">\n",
       "  <thead>\n",
       "    <tr style=\"text-align: right;\">\n",
       "      <th></th>\n",
       "      <th>y</th>\n",
       "      <th>x1</th>\n",
       "      <th>x2</th>\n",
       "    </tr>\n",
       "  </thead>\n",
       "  <tbody>\n",
       "    <tr>\n",
       "      <th>4995</th>\n",
       "      <td>-0.156874</td>\n",
       "      <td>-0.130741</td>\n",
       "      <td>1.166260</td>\n",
       "    </tr>\n",
       "    <tr>\n",
       "      <th>4996</th>\n",
       "      <td>2.296846</td>\n",
       "      <td>0.416672</td>\n",
       "      <td>1.382663</td>\n",
       "    </tr>\n",
       "    <tr>\n",
       "      <th>4997</th>\n",
       "      <td>-0.848136</td>\n",
       "      <td>-0.063185</td>\n",
       "      <td>0.307703</td>\n",
       "    </tr>\n",
       "    <tr>\n",
       "      <th>4998</th>\n",
       "      <td>-1.523148</td>\n",
       "      <td>0.359429</td>\n",
       "      <td>0.210777</td>\n",
       "    </tr>\n",
       "    <tr>\n",
       "      <th>4999</th>\n",
       "      <td>0.959514</td>\n",
       "      <td>-0.345707</td>\n",
       "      <td>2.765055</td>\n",
       "    </tr>\n",
       "  </tbody>\n",
       "</table>\n",
       "</div>"
      ],
      "text/plain": [
       "             y        x1        x2\n",
       "4995 -0.156874 -0.130741  1.166260\n",
       "4996  2.296846  0.416672  1.382663\n",
       "4997 -0.848136 -0.063185  0.307703\n",
       "4998 -1.523148  0.359429  0.210777\n",
       "4999  0.959514 -0.345707  2.765055"
      ]
     },
     "execution_count": 32,
     "metadata": {},
     "output_type": "execute_result"
    }
   ],
   "source": [
    "#A brief look at the end of the dataset\n",
    "\n",
    "unknown_data.tail()"
   ]
  },
  {
   "cell_type": "code",
   "execution_count": 33,
   "metadata": {},
   "outputs": [
    {
     "data": {
      "text/plain": [
       "y     float64\n",
       "x1    float64\n",
       "x2    float64\n",
       "dtype: object"
      ]
     },
     "execution_count": 33,
     "metadata": {},
     "output_type": "execute_result"
    }
   ],
   "source": [
    "#All of the variables in this dataset are floats. No strings or categorical variables\n",
    "\n",
    "unknown_data.dtypes"
   ]
  },
  {
   "cell_type": "code",
   "execution_count": 34,
   "metadata": {},
   "outputs": [
    {
     "data": {
      "text/html": [
       "<div>\n",
       "<style scoped>\n",
       "    .dataframe tbody tr th:only-of-type {\n",
       "        vertical-align: middle;\n",
       "    }\n",
       "\n",
       "    .dataframe tbody tr th {\n",
       "        vertical-align: top;\n",
       "    }\n",
       "\n",
       "    .dataframe thead th {\n",
       "        text-align: right;\n",
       "    }\n",
       "</style>\n",
       "<table border=\"1\" class=\"dataframe\">\n",
       "  <thead>\n",
       "    <tr style=\"text-align: right;\">\n",
       "      <th></th>\n",
       "      <th>y</th>\n",
       "      <th>x1</th>\n",
       "      <th>x2</th>\n",
       "    </tr>\n",
       "  </thead>\n",
       "  <tbody>\n",
       "    <tr>\n",
       "      <th>count</th>\n",
       "      <td>5000.000000</td>\n",
       "      <td>5000.000000</td>\n",
       "      <td>5000.000000</td>\n",
       "    </tr>\n",
       "    <tr>\n",
       "      <th>mean</th>\n",
       "      <td>1.048158</td>\n",
       "      <td>-0.003752</td>\n",
       "      <td>1.503146</td>\n",
       "    </tr>\n",
       "    <tr>\n",
       "      <th>std</th>\n",
       "      <td>1.992383</td>\n",
       "      <td>1.008551</td>\n",
       "      <td>1.077676</td>\n",
       "    </tr>\n",
       "    <tr>\n",
       "      <th>min</th>\n",
       "      <td>-9.847133</td>\n",
       "      <td>-3.503908</td>\n",
       "      <td>0.015279</td>\n",
       "    </tr>\n",
       "    <tr>\n",
       "      <th>25%</th>\n",
       "      <td>-0.193654</td>\n",
       "      <td>-0.674079</td>\n",
       "      <td>0.733216</td>\n",
       "    </tr>\n",
       "    <tr>\n",
       "      <th>50%</th>\n",
       "      <td>1.002366</td>\n",
       "      <td>-0.002352</td>\n",
       "      <td>1.252496</td>\n",
       "    </tr>\n",
       "    <tr>\n",
       "      <th>75%</th>\n",
       "      <td>2.201069</td>\n",
       "      <td>0.664764</td>\n",
       "      <td>2.017572</td>\n",
       "    </tr>\n",
       "    <tr>\n",
       "      <th>max</th>\n",
       "      <td>10.274068</td>\n",
       "      <td>3.274246</td>\n",
       "      <td>8.126406</td>\n",
       "    </tr>\n",
       "  </tbody>\n",
       "</table>\n",
       "</div>"
      ],
      "text/plain": [
       "                 y           x1           x2\n",
       "count  5000.000000  5000.000000  5000.000000\n",
       "mean      1.048158    -0.003752     1.503146\n",
       "std       1.992383     1.008551     1.077676\n",
       "min      -9.847133    -3.503908     0.015279\n",
       "25%      -0.193654    -0.674079     0.733216\n",
       "50%       1.002366    -0.002352     1.252496\n",
       "75%       2.201069     0.664764     2.017572\n",
       "max      10.274068     3.274246     8.126406"
      ]
     },
     "execution_count": 34,
     "metadata": {},
     "output_type": "execute_result"
    }
   ],
   "source": [
    "#Some interesting data here\n",
    "#There are negative values for y and x1\n",
    "#The mean of all three variables is very small and similar\n",
    "\n",
    "unknown_data.describe()"
   ]
  },
  {
   "cell_type": "markdown",
   "metadata": {},
   "source": [
    "# Data Cleaning Round One"
   ]
  },
  {
   "cell_type": "code",
   "execution_count": 35,
   "metadata": {},
   "outputs": [
    {
     "data": {
      "text/plain": [
       "y     0\n",
       "x1    0\n",
       "x2    0\n",
       "dtype: int64"
      ]
     },
     "execution_count": 35,
     "metadata": {},
     "output_type": "execute_result"
    }
   ],
   "source": [
    "#There aren't any null values in this dataset\n",
    "\n",
    "unknown_data.isna().sum() "
   ]
  },
  {
   "cell_type": "code",
   "execution_count": 36,
   "metadata": {},
   "outputs": [
    {
     "data": {
      "text/plain": [
       "-1.340799    1\n",
       "-1.769860    1\n",
       " 0.676786    1\n",
       " 1.149401    1\n",
       " 0.100462    1\n",
       " 3.598377    1\n",
       " 1.607776    1\n",
       "-0.202773    1\n",
       " 1.415353    1\n",
       " 1.696135    1\n",
       " 0.165363    1\n",
       " 4.426443    1\n",
       " 2.385423    1\n",
       " 5.742050    1\n",
       " 2.256610    1\n",
       " 3.626180    1\n",
       " 0.117330    1\n",
       "-0.132080    1\n",
       " 4.513966    1\n",
       " 1.593868    1\n",
       " 1.285401    1\n",
       " 0.191842    1\n",
       " 0.205338    1\n",
       " 0.416132    1\n",
       " 8.353481    1\n",
       " 1.464384    1\n",
       "-1.276313    1\n",
       " 2.296138    1\n",
       "-0.084232    1\n",
       "-0.439581    1\n",
       "            ..\n",
       "-0.477890    1\n",
       " 0.656583    1\n",
       "-0.963378    1\n",
       " 0.107877    1\n",
       " 4.263389    1\n",
       " 4.696852    1\n",
       " 4.715151    1\n",
       " 0.965792    1\n",
       " 2.312405    1\n",
       " 2.871681    1\n",
       " 4.526784    1\n",
       " 1.126508    1\n",
       "-0.103973    1\n",
       " 0.622792    1\n",
       " 1.986552    1\n",
       " 1.445545    1\n",
       " 3.965121    1\n",
       " 1.999507    1\n",
       " 4.082140    1\n",
       " 3.781777    1\n",
       " 2.240469    1\n",
       " 0.514845    1\n",
       " 3.846649    1\n",
       "-1.240125    1\n",
       " 0.846319    1\n",
       " 1.532692    1\n",
       "-0.535847    1\n",
       " 0.217591    1\n",
       " 4.045750    1\n",
       " 2.380973    1\n",
       "Name: y, Length: 5000, dtype: int64"
      ]
     },
     "execution_count": 36,
     "metadata": {},
     "output_type": "execute_result"
    }
   ],
   "source": [
    "#At first glance there does not seem to be multiple repeat values. Every value seems unique\n",
    "\n",
    "unknown_data['y'].value_counts()"
   ]
  },
  {
   "cell_type": "code",
   "execution_count": 37,
   "metadata": {},
   "outputs": [
    {
     "data": {
      "text/plain": [
       "5000"
      ]
     },
     "execution_count": 37,
     "metadata": {},
     "output_type": "execute_result"
    }
   ],
   "source": [
    "#There are 5000 rows and 5000 unqiue y values meaning every y value is unique\n",
    "\n",
    "unknown_data['y'].nunique()"
   ]
  },
  {
   "cell_type": "code",
   "execution_count": 38,
   "metadata": {},
   "outputs": [
    {
     "data": {
      "text/plain": [
       " 0.090762    1\n",
       " 0.497873    1\n",
       "-1.808123    1\n",
       " 0.190926    1\n",
       "-0.295712    1\n",
       " 0.009822    1\n",
       " 0.796629    1\n",
       " 0.357988    1\n",
       " 2.770468    1\n",
       "-1.079230    1\n",
       " 2.142189    1\n",
       "-0.959632    1\n",
       "-0.511523    1\n",
       " 0.621955    1\n",
       " 0.516549    1\n",
       " 0.141166    1\n",
       " 0.031912    1\n",
       " 0.044907    1\n",
       " 1.542090    1\n",
       " 0.920844    1\n",
       "-0.750099    1\n",
       " 1.556274    1\n",
       "-2.527015    1\n",
       "-0.351995    1\n",
       "-0.471754    1\n",
       "-0.454921    1\n",
       " 1.684709    1\n",
       " 0.632481    1\n",
       "-0.082872    1\n",
       "-0.591082    1\n",
       "            ..\n",
       " 0.332239    1\n",
       " 1.824164    1\n",
       " 0.446277    1\n",
       " 0.894493    1\n",
       "-0.281864    1\n",
       "-1.536229    1\n",
       " 0.557210    1\n",
       " 0.207129    1\n",
       " 0.546811    1\n",
       " 0.509649    1\n",
       " 0.445326    1\n",
       "-1.805420    1\n",
       "-1.406699    1\n",
       "-0.706386    1\n",
       "-0.021352    1\n",
       "-0.195342    1\n",
       " 0.699078    1\n",
       " 0.171884    1\n",
       " 1.063089    1\n",
       "-1.254022    1\n",
       " 0.853185    1\n",
       "-0.035814    1\n",
       " 0.542663    1\n",
       "-0.245900    1\n",
       " 1.489304    1\n",
       "-0.491921    1\n",
       "-0.491111    1\n",
       " 0.053269    1\n",
       "-1.157745    1\n",
       "-0.687875    1\n",
       "Name: x1, Length: 5000, dtype: int64"
      ]
     },
     "execution_count": 38,
     "metadata": {},
     "output_type": "execute_result"
    }
   ],
   "source": [
    "#At first glance there does not seem to be multiple repeat values. Every value seems unique\n",
    "\n",
    "unknown_data['x1'].value_counts()"
   ]
  },
  {
   "cell_type": "code",
   "execution_count": 39,
   "metadata": {},
   "outputs": [
    {
     "data": {
      "text/plain": [
       "5000"
      ]
     },
     "execution_count": 39,
     "metadata": {},
     "output_type": "execute_result"
    }
   ],
   "source": [
    "#There are 5000 rows and 5000 unqiue x1 values meaning every x1 value is unique\n",
    "\n",
    "unknown_data['x1'].nunique()"
   ]
  },
  {
   "cell_type": "code",
   "execution_count": 40,
   "metadata": {},
   "outputs": [
    {
     "data": {
      "text/plain": [
       "0.400896    1\n",
       "1.601039    1\n",
       "0.996331    1\n",
       "0.668912    1\n",
       "1.178475    1\n",
       "1.690971    1\n",
       "4.008380    1\n",
       "1.784300    1\n",
       "0.702412    1\n",
       "3.468595    1\n",
       "1.160640    1\n",
       "0.655118    1\n",
       "0.781348    1\n",
       "1.151663    1\n",
       "0.696596    1\n",
       "2.474359    1\n",
       "0.769657    1\n",
       "2.639680    1\n",
       "1.292784    1\n",
       "0.910446    1\n",
       "1.796969    1\n",
       "0.751991    1\n",
       "0.264379    1\n",
       "1.294212    1\n",
       "0.402122    1\n",
       "2.225853    1\n",
       "1.229419    1\n",
       "1.373634    1\n",
       "0.725345    1\n",
       "0.280515    1\n",
       "           ..\n",
       "0.295324    1\n",
       "1.325905    1\n",
       "1.297532    1\n",
       "1.692812    1\n",
       "3.124117    1\n",
       "1.022417    1\n",
       "1.909162    1\n",
       "2.480716    1\n",
       "0.797937    1\n",
       "0.843591    1\n",
       "0.545930    1\n",
       "2.869629    1\n",
       "1.150290    1\n",
       "2.452406    1\n",
       "1.915146    1\n",
       "3.978480    1\n",
       "0.948808    1\n",
       "2.227937    1\n",
       "3.615053    1\n",
       "0.837152    1\n",
       "0.691574    1\n",
       "1.173780    1\n",
       "1.710817    1\n",
       "1.047449    1\n",
       "0.928882    1\n",
       "2.291423    1\n",
       "1.054570    1\n",
       "1.421988    1\n",
       "0.084975    1\n",
       "5.347280    1\n",
       "Name: x2, Length: 5000, dtype: int64"
      ]
     },
     "execution_count": 40,
     "metadata": {},
     "output_type": "execute_result"
    }
   ],
   "source": [
    "#At first glance there does not seem to be multiple repeat values. Every value seems unique\n",
    "\n",
    "unknown_data['x2'].value_counts()"
   ]
  },
  {
   "cell_type": "code",
   "execution_count": 41,
   "metadata": {},
   "outputs": [
    {
     "data": {
      "text/plain": [
       "5000"
      ]
     },
     "execution_count": 41,
     "metadata": {},
     "output_type": "execute_result"
    }
   ],
   "source": [
    "#There are 5000 rows and 5000 unqiue x2 values meaning every x2 value is unique\n",
    "\n",
    "unknown_data['x2'].nunique()"
   ]
  },
  {
   "cell_type": "code",
   "execution_count": 42,
   "metadata": {},
   "outputs": [
    {
     "data": {
      "image/png": "[encoded data removed]",
      "text/plain": [
       "<Figure size 432x288 with 1 Axes>"
      ]
     },
     "metadata": {
      "needs_background": "light"
     },
     "output_type": "display_data"
    }
   ],
   "source": [
    "#Here is a histogram for y\n",
    "#This helps with checking the distribution of data and this is definitely a normal distribution\n",
    "\n",
    "unknown_data.loc[:,\"y\"].plot(kind='hist', bins=100)\n",
    "plt.xlabel(\"Range of Unknown Y Variable\")\n",
    "plt.title(\"Breakdown of Unknown Y Variable\");"
   ]
  },
  {
   "cell_type": "code",
   "execution_count": 43,
   "metadata": {},
   "outputs": [
    {
     "data": {
      "image/png": "[encoded data removed]",
      "text/plain": [
       "<Figure size 432x288 with 1 Axes>"
      ]
     },
     "metadata": {
      "needs_background": "light"
     },
     "output_type": "display_data"
    }
   ],
   "source": [
    "#Here is a histogram for x1\n",
    "#This helps with checking the distribution of data and this is definitely a normal distribution\n",
    "\n",
    "unknown_data.loc[:,\"x1\"].plot(kind='hist', bins=100)\n",
    "plt.xlabel(\"Range of Unknown X1 Variable\")\n",
    "plt.title(\"Breakdown of Unknown X1 Variable\");"
   ]
  },
  {
   "cell_type": "code",
   "execution_count": 44,
   "metadata": {},
   "outputs": [
    {
     "data": {
      "image/png": "[encoded data removed]",
      "text/plain": [
       "<Figure size 432x288 with 1 Axes>"
      ]
     },
     "metadata": {
      "needs_background": "light"
     },
     "output_type": "display_data"
    }
   ],
   "source": [
    "#Here is a histogram for x2\n",
    "#This helps with checking the distribution of data and this is skewed right\n",
    "#Not a normal distribution\n",
    "\n",
    "unknown_data.loc[:,\"x2\"].plot(kind='hist', bins=100)\n",
    "plt.xlabel(\"Range of Unknown X2 Variable\")\n",
    "plt.title(\"Breakdown of Unknown X2 Variable\");"
   ]
  },
  {
   "cell_type": "markdown",
   "metadata": {},
   "source": [
    "There are NO assumptions in any linear model about the distribution of the independent variables.  Yes, you only get meaningful parameter estimates from nominal (unordered categories) or numerical (continuous or discrete) independent variables.  But no, the model makes no assumptions about them.  They do not need to be normally distributed or continuous."
   ]
  },
  {
   "cell_type": "markdown",
   "metadata": {},
   "source": [
    "# First Pass Model"
   ]
  },
  {
   "cell_type": "markdown",
   "metadata": {},
   "source": [
    "I think it can be a good thing to do a rough draft of your model. That way you can see how much work you need to do to clean it up and make other adjustments"
   ]
  },
  {
   "cell_type": "code",
   "execution_count": 45,
   "metadata": {},
   "outputs": [],
   "source": [
    "#Separating the variables between X and y\n",
    "\n",
    "X = unknown_data.drop('y', axis='columns')\n",
    "y = unknown_data.loc[:, 'y']"
   ]
  },
  {
   "cell_type": "code",
   "execution_count": 46,
   "metadata": {},
   "outputs": [],
   "source": [
    "#Setting up a training set and a test set\n",
    "#test_size = .2 means 20% of the data is set aside for the test set. 80% of the data is used for the training set\n",
    "#You could also use train_size if you wish\n",
    "#I am using the 80/20 split based on conventional use\n",
    "\n",
    "from sklearn.model_selection import train_test_split\n",
    "\n",
    "X_train, X_test, y_train, y_test = train_test_split(X, y, test_size = .2, random_state=30)"
   ]
  },
  {
   "cell_type": "code",
   "execution_count": 47,
   "metadata": {},
   "outputs": [
    {
     "data": {
      "text/plain": [
       "LinearRegression(copy_X=True, fit_intercept=True, n_jobs=None,\n",
       "         normalize=False)"
      ]
     },
     "execution_count": 47,
     "metadata": {},
     "output_type": "execute_result"
    }
   ],
   "source": [
    "#Setting up a linear regression model using the training set\n",
    "\n",
    "from sklearn.linear_model import LinearRegression\n",
    "\n",
    "lr = LinearRegression()\n",
    "\n",
    "lr.fit(X_train, y_train)"
   ]
  },
  {
   "cell_type": "code",
   "execution_count": 48,
   "metadata": {},
   "outputs": [
    {
     "name": "stdout",
     "output_type": "stream",
     "text": [
      "0.4692214963379311\n",
      "0.4530777119430709\n"
     ]
    }
   ],
   "source": [
    "#Scoring the model on the training set and test set.\n",
    "#These are the R-squared values for the training set and test set. \n",
    "\n",
    "print(lr.score(X_train, y_train))\n",
    "print(lr.score(X_test, y_test))"
   ]
  },
  {
   "cell_type": "markdown",
   "metadata": {},
   "source": [
    "#### First Impressions"
   ]
  },
  {
   "cell_type": "markdown",
   "metadata": {},
   "source": [
    "blah blah blah"
   ]
  },
  {
   "cell_type": "markdown",
   "metadata": {},
   "source": [
    "# Log Transformation"
   ]
  },
  {
   "cell_type": "code",
   "execution_count": 49,
   "metadata": {},
   "outputs": [
    {
     "name": "stderr",
     "output_type": "stream",
     "text": [
      "C:\\Users\\kalstedh\\AppData\\Local\\Continuum\\anaconda3\\lib\\site-packages\\ipykernel_launcher.py:3: RuntimeWarning: invalid value encountered in log\n",
      "  This is separate from the ipykernel package so we can avoid doing imports until\n"
     ]
    }
   ],
   "source": [
    "#Here I am applying log transformation to NumFloors and calling it simply \"log_floors\"\n",
    "\n",
    "unknown_data['log_y'] = np.log(unknown_data['y'])"
   ]
  },
  {
   "cell_type": "code",
   "execution_count": 50,
   "metadata": {},
   "outputs": [
    {
     "name": "stderr",
     "output_type": "stream",
     "text": [
      "C:\\Users\\kalstedh\\AppData\\Local\\Continuum\\anaconda3\\lib\\site-packages\\ipykernel_launcher.py:3: RuntimeWarning: invalid value encountered in log\n",
      "  This is separate from the ipykernel package so we can avoid doing imports until\n"
     ]
    }
   ],
   "source": [
    "#Here I am applying log transformation to NumFloors and calling it simply \"log_floors\"\n",
    "\n",
    "unknown_data['log_x1'] = np.log(unknown_data['x1'])"
   ]
  },
  {
   "cell_type": "code",
   "execution_count": 51,
   "metadata": {},
   "outputs": [],
   "source": [
    "#Here I am applying log transformation to NumFloors and calling it simply \"log_floors\"\n",
    "\n",
    "unknown_data['log_x2'] = np.log(unknown_data['x2'])"
   ]
  },
  {
   "cell_type": "code",
   "execution_count": 52,
   "metadata": {},
   "outputs": [
    {
     "data": {
      "text/plain": [
       "log_y     1.000000\n",
       "y         0.830307\n",
       "log_x2    0.449233\n",
       "x2        0.409097\n",
       "log_x1    0.395291\n",
       "x1        0.185010\n",
       "Name: log_y, dtype: float64"
      ]
     },
     "execution_count": 52,
     "metadata": {},
     "output_type": "execute_result"
    }
   ],
   "source": [
    "#Log transformation helped improve correlation between several X variables and sale price\n",
    "\n",
    "unknown_data.corr().loc[:, 'log_y'].sort_values(ascending=False)"
   ]
  },
  {
   "cell_type": "code",
   "execution_count": 53,
   "metadata": {},
   "outputs": [
    {
     "data": {
      "text/plain": [
       "y         1.000000\n",
       "log_y     0.830307\n",
       "log_x2    0.719100\n",
       "x2        0.631638\n",
       "log_x1    0.431157\n",
       "x1        0.262895\n",
       "Name: y, dtype: float64"
      ]
     },
     "execution_count": 53,
     "metadata": {},
     "output_type": "execute_result"
    }
   ],
   "source": [
    "#Log transformation helped improve correlation between several X variables and sale price\n",
    "\n",
    "unknown_data.corr().loc[:, 'y'].sort_values(ascending=False)"
   ]
  },
  {
   "cell_type": "code",
   "execution_count": 54,
   "metadata": {},
   "outputs": [
    {
     "data": {
      "text/html": [
       "<div>\n",
       "<style scoped>\n",
       "    .dataframe tbody tr th:only-of-type {\n",
       "        vertical-align: middle;\n",
       "    }\n",
       "\n",
       "    .dataframe tbody tr th {\n",
       "        vertical-align: top;\n",
       "    }\n",
       "\n",
       "    .dataframe thead th {\n",
       "        text-align: right;\n",
       "    }\n",
       "</style>\n",
       "<table border=\"1\" class=\"dataframe\">\n",
       "  <thead>\n",
       "    <tr style=\"text-align: right;\">\n",
       "      <th></th>\n",
       "      <th>y</th>\n",
       "      <th>x1</th>\n",
       "      <th>x2</th>\n",
       "      <th>log_y</th>\n",
       "      <th>log_x1</th>\n",
       "      <th>log_x2</th>\n",
       "    </tr>\n",
       "  </thead>\n",
       "  <tbody>\n",
       "    <tr>\n",
       "      <th>0</th>\n",
       "      <td>1.300215</td>\n",
       "      <td>-0.054425</td>\n",
       "      <td>0.738897</td>\n",
       "      <td>0.262530</td>\n",
       "      <td>NaN</td>\n",
       "      <td>-0.302597</td>\n",
       "    </tr>\n",
       "    <tr>\n",
       "      <th>1</th>\n",
       "      <td>-0.805025</td>\n",
       "      <td>0.130174</td>\n",
       "      <td>0.977855</td>\n",
       "      <td>NaN</td>\n",
       "      <td>-2.038885</td>\n",
       "      <td>-0.022394</td>\n",
       "    </tr>\n",
       "    <tr>\n",
       "      <th>2</th>\n",
       "      <td>2.801926</td>\n",
       "      <td>1.749007</td>\n",
       "      <td>1.352562</td>\n",
       "      <td>1.030307</td>\n",
       "      <td>0.559048</td>\n",
       "      <td>0.302000</td>\n",
       "    </tr>\n",
       "    <tr>\n",
       "      <th>3</th>\n",
       "      <td>3.123490</td>\n",
       "      <td>-0.979458</td>\n",
       "      <td>1.664484</td>\n",
       "      <td>1.138951</td>\n",
       "      <td>NaN</td>\n",
       "      <td>0.509515</td>\n",
       "    </tr>\n",
       "    <tr>\n",
       "      <th>4</th>\n",
       "      <td>3.445728</td>\n",
       "      <td>0.300521</td>\n",
       "      <td>2.988848</td>\n",
       "      <td>1.237135</td>\n",
       "      <td>-1.202238</td>\n",
       "      <td>1.094888</td>\n",
       "    </tr>\n",
       "  </tbody>\n",
       "</table>\n",
       "</div>"
      ],
      "text/plain": [
       "          y        x1        x2     log_y    log_x1    log_x2\n",
       "0  1.300215 -0.054425  0.738897  0.262530       NaN -0.302597\n",
       "1 -0.805025  0.130174  0.977855       NaN -2.038885 -0.022394\n",
       "2  2.801926  1.749007  1.352562  1.030307  0.559048  0.302000\n",
       "3  3.123490 -0.979458  1.664484  1.138951       NaN  0.509515\n",
       "4  3.445728  0.300521  2.988848  1.237135 -1.202238  1.094888"
      ]
     },
     "execution_count": 54,
     "metadata": {},
     "output_type": "execute_result"
    }
   ],
   "source": [
    "unknown_data.head()"
   ]
  },
  {
   "cell_type": "code",
   "execution_count": 55,
   "metadata": {},
   "outputs": [
    {
     "data": {
      "text/plain": [
       "y            0\n",
       "x1           0\n",
       "x2           0\n",
       "log_y     1441\n",
       "log_x1    2505\n",
       "log_x2       0\n",
       "dtype: int64"
      ]
     },
     "execution_count": 55,
     "metadata": {},
     "output_type": "execute_result"
    }
   ],
   "source": [
    "unknown_data.isna().sum()"
   ]
  },
  {
   "cell_type": "code",
   "execution_count": 56,
   "metadata": {},
   "outputs": [],
   "source": [
    "#I am dropping the following variables because they are included in rating or not as strongly correlated with points\n",
    "\n",
    "\n",
    "unknown_data = unknown_data.drop(['log_y', 'log_x1', 'x2'], axis = 'columns')"
   ]
  },
  {
   "cell_type": "markdown",
   "metadata": {},
   "source": [
    "# Second Pass Model"
   ]
  },
  {
   "cell_type": "code",
   "execution_count": 57,
   "metadata": {},
   "outputs": [],
   "source": [
    "#Separating the variables between X and y\n",
    "\n",
    "X = unknown_data.drop('y', axis='columns')\n",
    "y = unknown_data.loc[:, 'y']"
   ]
  },
  {
   "cell_type": "code",
   "execution_count": 58,
   "metadata": {},
   "outputs": [],
   "source": [
    "#Setting up a training set and a test set\n",
    "#test_size = .2 means 20% of the data is set aside for the test set. 80% of the data is used for the training set\n",
    "#You could also use train_size if you wish\n",
    "#I am using the 80/20 split based on conventional use\n",
    "\n",
    "from sklearn.model_selection import train_test_split\n",
    "\n",
    "X_train, X_test, y_train, y_test = train_test_split(X, y, test_size = .2, random_state=30)"
   ]
  },
  {
   "cell_type": "code",
   "execution_count": 59,
   "metadata": {},
   "outputs": [
    {
     "data": {
      "text/plain": [
       "LinearRegression(copy_X=True, fit_intercept=True, n_jobs=None,\n",
       "         normalize=False)"
      ]
     },
     "execution_count": 59,
     "metadata": {},
     "output_type": "execute_result"
    }
   ],
   "source": [
    "#Setting up a linear regression model using the training set\n",
    "\n",
    "from sklearn.linear_model import LinearRegression\n",
    "\n",
    "lr = LinearRegression()\n",
    "\n",
    "lr.fit(X_train, y_train)"
   ]
  },
  {
   "cell_type": "code",
   "execution_count": 60,
   "metadata": {},
   "outputs": [
    {
     "name": "stdout",
     "output_type": "stream",
     "text": [
      "0.5855162678067158\n",
      "0.5796151698827243\n"
     ]
    }
   ],
   "source": [
    "#Scoring the model on the training set and test set.\n",
    "#These are the R-squared values for the training set and test set. \n",
    "\n",
    "print(lr.score(X_train, y_train))\n",
    "print(lr.score(X_test, y_test))"
   ]
  },
  {
   "cell_type": "markdown",
   "metadata": {},
   "source": [
    "#### First Impressions"
   ]
  },
  {
   "cell_type": "markdown",
   "metadata": {},
   "source": [
    "blah blah blah"
   ]
  },
  {
   "cell_type": "markdown",
   "metadata": {},
   "source": [
    "# Data Visualization"
   ]
  },
  {
   "cell_type": "code",
   "execution_count": 61,
   "metadata": {},
   "outputs": [
    {
     "data": {
      "image/png": "[encoded data removed]",
      "text/plain": [
       "<Figure size 1440x720 with 1 Axes>"
      ]
     },
     "metadata": {
      "needs_background": "light"
     },
     "output_type": "display_data"
    }
   ],
   "source": [
    "#There seems to be pretty clear positive correlation between QB rating and points scored\n",
    "\n",
    "ax = unknown_data.plot(kind='scatter', x='x1', y='y', rot=0, figsize=(20,10))\n",
    "plt.ylabel(\"Unknown Y Variable\")\n",
    "plt.xlabel(\"Unknown X1 Variable\")\n",
    "plt.title(\"X1 vs. Y Mystery Variables\");"
   ]
  },
  {
   "cell_type": "code",
   "execution_count": 62,
   "metadata": {},
   "outputs": [
    {
     "data": {
      "image/png": "[encoded data removed]",
      "text/plain": [
       "<Figure size 1440x720 with 1 Axes>"
      ]
     },
     "metadata": {
      "needs_background": "light"
     },
     "output_type": "display_data"
    }
   ],
   "source": [
    "#There seems to be pretty clear positive correlation between QB rating and points scored\n",
    "\n",
    "ax = unknown_data.plot(kind='scatter', x='log_x2', y='y', rot=0, figsize=(20,10))\n",
    "plt.ylabel(\"Unknown Y Variable\")\n",
    "plt.xlabel(\"Unknown X2 (Log) Variable\")\n",
    "plt.title(\"X2 vs. Y Mystery Variables\");"
   ]
  },
  {
   "cell_type": "markdown",
   "metadata": {},
   "source": [
    "# Backwards Elimination"
   ]
  },
  {
   "cell_type": "code",
   "execution_count": 63,
   "metadata": {},
   "outputs": [],
   "source": [
    "#Here I am importing the stats model package that allows for OLS investigation\n",
    "\n",
    "import statsmodels.api as sm"
   ]
  },
  {
   "cell_type": "code",
   "execution_count": 64,
   "metadata": {},
   "outputs": [],
   "source": [
    "#Essentially we need a B0X0\n",
    "#The stats model library is useful, but does not contain the constant column, hence why we add it\n",
    "\n",
    "#This is specifically a column of 5000 \"ones\" since the constant will just multiply by one to keep its value\n",
    "#The append function helps us add a new column to our dataset\n",
    "\n",
    "X = np.append(arr =  np.ones((5000,1)).astype(int), values = X, axis = 1)"
   ]
  },
  {
   "cell_type": "code",
   "execution_count": 65,
   "metadata": {},
   "outputs": [],
   "source": [
    "#The stats model has an OLS method that gives us a nice statistical summary of our model\n",
    "\n",
    "regressor_OLS = sm.OLS(endog = y, exog = X).fit()"
   ]
  },
  {
   "cell_type": "code",
   "execution_count": 66,
   "metadata": {},
   "outputs": [
    {
     "data": {
      "text/html": [
       "<table class=\"simpletable\">\n",
       "<caption>OLS Regression Results</caption>\n",
       "<tr>\n",
       "  <th>Dep. Variable:</th>            <td>y</td>        <th>  R-squared:         </th> <td>   0.584</td> \n",
       "</tr>\n",
       "<tr>\n",
       "  <th>Model:</th>                   <td>OLS</td>       <th>  Adj. R-squared:    </th> <td>   0.584</td> \n",
       "</tr>\n",
       "<tr>\n",
       "  <th>Method:</th>             <td>Least Squares</td>  <th>  F-statistic:       </th> <td>   3512.</td> \n",
       "</tr>\n",
       "<tr>\n",
       "  <th>Date:</th>             <td>Mon, 19 Jul 2021</td> <th>  Prob (F-statistic):</th>  <td>  0.00</td>  \n",
       "</tr>\n",
       "<tr>\n",
       "  <th>Time:</th>                 <td>16:30:57</td>     <th>  Log-Likelihood:    </th> <td> -8346.3</td> \n",
       "</tr>\n",
       "<tr>\n",
       "  <th>No. Observations:</th>      <td>  5000</td>      <th>  AIC:               </th> <td>1.670e+04</td>\n",
       "</tr>\n",
       "<tr>\n",
       "  <th>Df Residuals:</th>          <td>  4997</td>      <th>  BIC:               </th> <td>1.672e+04</td>\n",
       "</tr>\n",
       "<tr>\n",
       "  <th>Df Model:</th>              <td>     2</td>      <th>                     </th>     <td> </td>    \n",
       "</tr>\n",
       "<tr>\n",
       "  <th>Covariance Type:</th>      <td>nonrobust</td>    <th>                     </th>     <td> </td>    \n",
       "</tr>\n",
       "</table>\n",
       "<table class=\"simpletable\">\n",
       "<tr>\n",
       "    <td></td>       <th>coef</th>     <th>std err</th>      <th>t</th>      <th>P>|t|</th>  <th>[0.025</th>    <th>0.975]</th>  \n",
       "</tr>\n",
       "<tr>\n",
       "  <th>const</th> <td>    0.8092</td> <td>    0.018</td> <td>   43.918</td> <td> 0.000</td> <td>    0.773</td> <td>    0.845</td>\n",
       "</tr>\n",
       "<tr>\n",
       "  <th>x1</th>    <td>    0.5122</td> <td>    0.018</td> <td>   28.425</td> <td> 0.000</td> <td>    0.477</td> <td>    0.547</td>\n",
       "</tr>\n",
       "<tr>\n",
       "  <th>x2</th>    <td>    1.7819</td> <td>    0.023</td> <td>   78.698</td> <td> 0.000</td> <td>    1.738</td> <td>    1.826</td>\n",
       "</tr>\n",
       "</table>\n",
       "<table class=\"simpletable\">\n",
       "<tr>\n",
       "  <th>Omnibus:</th>       <td>90.814</td> <th>  Durbin-Watson:     </th> <td>   1.986</td>\n",
       "</tr>\n",
       "<tr>\n",
       "  <th>Prob(Omnibus):</th> <td> 0.000</td> <th>  Jarque-Bera (JB):  </th> <td> 101.278</td>\n",
       "</tr>\n",
       "<tr>\n",
       "  <th>Skew:</th>          <td> 0.294</td> <th>  Prob(JB):          </th> <td>1.02e-22</td>\n",
       "</tr>\n",
       "<tr>\n",
       "  <th>Kurtosis:</th>      <td> 3.376</td> <th>  Cond. No.          </th> <td>    1.31</td>\n",
       "</tr>\n",
       "</table><br/><br/>Warnings:<br/>[1] Standard Errors assume that the covariance matrix of the errors is correctly specified."
      ],
      "text/plain": [
       "<class 'statsmodels.iolib.summary.Summary'>\n",
       "\"\"\"\n",
       "                            OLS Regression Results                            \n",
       "==============================================================================\n",
       "Dep. Variable:                      y   R-squared:                       0.584\n",
       "Model:                            OLS   Adj. R-squared:                  0.584\n",
       "Method:                 Least Squares   F-statistic:                     3512.\n",
       "Date:                Mon, 19 Jul 2021   Prob (F-statistic):               0.00\n",
       "Time:                        16:30:57   Log-Likelihood:                -8346.3\n",
       "No. Observations:                5000   AIC:                         1.670e+04\n",
       "Df Residuals:                    4997   BIC:                         1.672e+04\n",
       "Df Model:                           2                                         \n",
       "Covariance Type:            nonrobust                                         \n",
       "==============================================================================\n",
       "                 coef    std err          t      P>|t|      [0.025      0.975]\n",
       "------------------------------------------------------------------------------\n",
       "const          0.8092      0.018     43.918      0.000       0.773       0.845\n",
       "x1             0.5122      0.018     28.425      0.000       0.477       0.547\n",
       "x2             1.7819      0.023     78.698      0.000       1.738       1.826\n",
       "==============================================================================\n",
       "Omnibus:                       90.814   Durbin-Watson:                   1.986\n",
       "Prob(Omnibus):                  0.000   Jarque-Bera (JB):              101.278\n",
       "Skew:                           0.294   Prob(JB):                     1.02e-22\n",
       "Kurtosis:                       3.376   Cond. No.                         1.31\n",
       "==============================================================================\n",
       "\n",
       "Warnings:\n",
       "[1] Standard Errors assume that the covariance matrix of the errors is correctly specified.\n",
       "\"\"\""
      ]
     },
     "execution_count": 66,
     "metadata": {},
     "output_type": "execute_result"
    }
   ],
   "source": [
    "#Here is the OLS summary\n",
    "#X5, X6, and X7 are not statistically significant at the 5% level\n",
    "\n",
    "regressor_OLS.summary()"
   ]
  },
  {
   "cell_type": "markdown",
   "metadata": {},
   "source": [
    "# Random Forest Regression"
   ]
  },
  {
   "cell_type": "markdown",
   "metadata": {},
   "source": [
    "Lots of people rush directly to XGBoost regression and I don't blame them. It's an extremely useful tool. I don't like going straight to it because I think it may hide some things you need to tweak in your model. I am going to run a Random Forest regression first."
   ]
  },
  {
   "cell_type": "code",
   "execution_count": 67,
   "metadata": {},
   "outputs": [],
   "source": [
    "#Separating the variables between X and y\n",
    "\n",
    "X = unknown_data.drop('y', axis='columns')\n",
    "y = unknown_data.loc[:, 'y']"
   ]
  },
  {
   "cell_type": "code",
   "execution_count": 68,
   "metadata": {},
   "outputs": [],
   "source": [
    "#Setting up a training set and a test set\n",
    "#test_size = .2 means 20% of the data is set aside for the test set. 80% of the data is used for the training set\n",
    "#You could also use train_size if you wish\n",
    "\n",
    "from sklearn.model_selection import train_test_split\n",
    "\n",
    "X_train, X_test, y_train, y_test = train_test_split(X, y, test_size = .2, random_state=30)"
   ]
  },
  {
   "cell_type": "code",
   "execution_count": 69,
   "metadata": {},
   "outputs": [
    {
     "data": {
      "text/plain": [
       "RandomForestRegressor(bootstrap=True, criterion='mse', max_depth=None,\n",
       "           max_features='auto', max_leaf_nodes=None,\n",
       "           min_impurity_decrease=0.0, min_impurity_split=None,\n",
       "           min_samples_leaf=1, min_samples_split=2,\n",
       "           min_weight_fraction_leaf=0.0, n_estimators=200, n_jobs=None,\n",
       "           oob_score=False, random_state=None, verbose=0, warm_start=False)"
      ]
     },
     "execution_count": 69,
     "metadata": {},
     "output_type": "execute_result"
    }
   ],
   "source": [
    "#Importing the Random Forest module\n",
    "\n",
    "from sklearn.ensemble import RandomForestRegressor\n",
    "\n",
    "rfr = RandomForestRegressor(n_estimators=200)\n",
    "rfr.fit(X_train, y_train)"
   ]
  },
  {
   "cell_type": "code",
   "execution_count": 70,
   "metadata": {},
   "outputs": [
    {
     "name": "stdout",
     "output_type": "stream",
     "text": [
      "0.9580254828819302\n",
      "0.7052604844902645\n"
     ]
    }
   ],
   "source": [
    "print(rfr.score(X_train, y_train))\n",
    "print(rfr.score(X_test, y_test))"
   ]
  },
  {
   "cell_type": "markdown",
   "metadata": {},
   "source": [
    "#### First Impressions"
   ]
  },
  {
   "cell_type": "markdown",
   "metadata": {},
   "source": [
    "blah blah blah"
   ]
  },
  {
   "cell_type": "markdown",
   "metadata": {},
   "source": [
    "# XGBoost Regression"
   ]
  },
  {
   "cell_type": "markdown",
   "metadata": {},
   "source": [
    "Alas, the best choice might be just to use XGBoost. I have implemented it below"
   ]
  },
  {
   "cell_type": "code",
   "execution_count": 71,
   "metadata": {},
   "outputs": [],
   "source": [
    "#Separating the variables between X and y\n",
    "\n",
    "X = unknown_data.drop('y', axis='columns')\n",
    "y = unknown_data.loc[:, 'y']"
   ]
  },
  {
   "cell_type": "code",
   "execution_count": 72,
   "metadata": {},
   "outputs": [],
   "source": [
    "#Setting up a training set and a test set\n",
    "#test_size = .2 means 20% of the data is set aside for the test set. 80% of the data is used for the training set\n",
    "#You could also use train_size if you wish\n",
    "\n",
    "from sklearn.model_selection import train_test_split\n",
    "\n",
    "X_train, X_test, y_train, y_test = train_test_split(X, y, test_size = .2, random_state=30)"
   ]
  },
  {
   "cell_type": "code",
   "execution_count": 73,
   "metadata": {},
   "outputs": [],
   "source": [
    "import xgboost as xgb\n",
    "xgb_reg = xgb.XGBRegressor()"
   ]
  },
  {
   "cell_type": "code",
   "execution_count": 74,
   "metadata": {},
   "outputs": [
    {
     "name": "stdout",
     "output_type": "stream",
     "text": [
      "[16:33:24] WARNING: src/objective/regression_obj.cu:152: reg:linear is now deprecated in favor of reg:squarederror.\n"
     ]
    },
    {
     "name": "stderr",
     "output_type": "stream",
     "text": [
      "C:\\Users\\kalstedh\\AppData\\Local\\Continuum\\anaconda3\\lib\\site-packages\\xgboost\\core.py:587: FutureWarning: Series.base is deprecated and will be removed in a future version\n",
      "  if getattr(data, 'base', None) is not None and \\\n"
     ]
    },
    {
     "data": {
      "text/plain": [
       "XGBRegressor(base_score=0.5, booster='gbtree', colsample_bylevel=1,\n",
       "       colsample_bynode=1, colsample_bytree=1, gamma=0,\n",
       "       importance_type='gain', learning_rate=0.1, max_delta_step=0,\n",
       "       max_depth=3, min_child_weight=1, missing=None, n_estimators=100,\n",
       "       n_jobs=1, nthread=None, objective='reg:linear', random_state=0,\n",
       "       reg_alpha=0, reg_lambda=1, scale_pos_weight=1, seed=None,\n",
       "       silent=None, subsample=1, verbosity=1)"
      ]
     },
     "execution_count": 74,
     "metadata": {},
     "output_type": "execute_result"
    }
   ],
   "source": [
    "xgb_reg.fit(X_train, y_train)"
   ]
  },
  {
   "cell_type": "code",
   "execution_count": 75,
   "metadata": {},
   "outputs": [
    {
     "name": "stdout",
     "output_type": "stream",
     "text": [
      "0.7670978563476101\n",
      "0.7435530094179102\n"
     ]
    }
   ],
   "source": [
    "print(xgb_reg.score(X_train, y_train))\n",
    "print(xgb_reg.score(X_test, y_test))"
   ]
  },
  {
   "cell_type": "markdown",
   "metadata": {},
   "source": [
    "#### First Impressions"
   ]
  },
  {
   "cell_type": "markdown",
   "metadata": {},
   "source": [
    "Blah blah blah"
   ]
  },
  {
   "cell_type": "markdown",
   "metadata": {},
   "source": [
    "# Final Thoughts"
   ]
  },
  {
   "cell_type": "code",
   "execution_count": 76,
   "metadata": {},
   "outputs": [
    {
     "name": "stdout",
     "output_type": "stream",
     "text": [
      "[16:34:23] WARNING: src/objective/regression_obj.cu:152: reg:linear is now deprecated in favor of reg:squarederror.\n"
     ]
    },
    {
     "name": "stderr",
     "output_type": "stream",
     "text": [
      "C:\\Users\\kalstedh\\AppData\\Local\\Continuum\\anaconda3\\lib\\site-packages\\xgboost\\core.py:587: FutureWarning: Series.base is deprecated and will be removed in a future version\n",
      "  if getattr(data, 'base', None) is not None and \\\n"
     ]
    }
   ],
   "source": [
    "#Here is a much better visualization of the most important features in the XGBoost model\n",
    "\n",
    "import xgboost as xgb\n",
    "\n",
    "model = xgb.XGBRegressor()\n",
    "model.fit(X_train, y_train)\n",
    "importances = pd.DataFrame(data={\n",
    "    'Attribute': X_train.columns,\n",
    "    'Importance': model.feature_importances_\n",
    "})\n",
    "importances = importances.sort_values(by='Importance', ascending=False)"
   ]
  },
  {
   "cell_type": "code",
   "execution_count": 77,
   "metadata": {},
   "outputs": [
    {
     "data": {
      "image/png": "[encoded data removed]",
      "text/plain": [
       "<Figure size 432x288 with 1 Axes>"
      ]
     },
     "metadata": {
      "needs_background": "light"
     },
     "output_type": "display_data"
    }
   ],
   "source": [
    "plt.bar(x=importances['Attribute'], height=importances['Importance'], color='#087E8B')\n",
    "plt.title('Feature importances obtained from coefficients', size=20)\n",
    "plt.xticks(rotation='vertical')\n",
    "plt.show()"
   ]
  },
  {
   "cell_type": "code",
   "execution_count": null,
   "metadata": {},
   "outputs": [],
   "source": []
  }
 ],
 "metadata": {
  "kernelspec": {
   "display_name": "Python 3",
   "language": "python",
   "name": "python3"
  },
  "language_info": {
   "codemirror_mode": {
    "name": "ipython",
    "version": 3
   },
   "file_extension": ".py",
   "mimetype": "text/x-python",
   "name": "python",
   "nbconvert_exporter": "python",
   "pygments_lexer": "ipython3",
   "version": "3.7.3"
  }
 },
 "nbformat": 4,
 "nbformat_minor": 2
}
